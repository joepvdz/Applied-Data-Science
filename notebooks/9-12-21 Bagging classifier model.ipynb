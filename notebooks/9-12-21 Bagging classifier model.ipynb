{
 "cells": [
  {
   "cell_type": "code",
   "execution_count": 15,
   "id": "2e57b32a",
   "metadata": {},
   "outputs": [
    {
     "data": {
      "text/plain": [
       "((1051, 99), (1051, 1))"
      ]
     },
     "execution_count": 15,
     "metadata": {},
     "output_type": "execute_result"
    }
   ],
   "source": [
    "from sklearn.model_selection import train_test_split\n",
    "from sklearn.preprocessing import StandardScaler \n",
    "from sklearn.neighbors import KNeighborsClassifier\n",
    "from sklearn.metrics import classification_report, confusion_matrix, accuracy_score, plot_confusion_matrix, recall_score\n",
    "from sklearn.ensemble import RandomForestClassifier\n",
    "from sklearn.preprocessing import MinMaxScaler\n",
    "from sklearn.datasets import make_classification\n",
    "from sklearn.feature_selection import SelectFromModel\n",
    "from sklearn.linear_model import LogisticRegression\n",
    "from sklearn.pipeline import make_pipeline\n",
    "from sklearn.ensemble import BaggingClassifier\n",
    "from sklearn.model_selection import GridSearchCV\n",
    "from sklearn.ensemble import GradientBoostingClassifier\n",
    "import plotly.express as px  # for data visualization\n",
    "import plotly.graph_objects as go # for data visualization\n",
    "import numpy as np \n",
    "import matplotlib.pyplot as plt\n",
    "import pandas as pd\n",
    "import seaborn as sns \n",
    "\n",
    "X_train_fs = pd.read_csv('./X_train.csv', error_bad_lines=False, sep=',')\n",
    "X_test_fs = pd.read_csv('./X_test.csv', error_bad_lines=False, sep=',')\n",
    "y_train = pd.read_csv('./y_train.csv', error_bad_lines=False, sep=',')\n",
    "y_test = pd.read_csv('./y_test.csv', error_bad_lines=False, sep=',')\n",
    "\n",
    "#df = df.drop(df.columns[[0,1,5]], axis = 1)\n",
    "X_train_fs.shape, y_train.shape"
   ]
  },
  {
   "cell_type": "code",
   "execution_count": 16,
   "id": "bff595a9",
   "metadata": {},
   "outputs": [],
   "source": [
    "y_train = y_train.values.ravel()\n",
    "y_test = y_test.values.ravel()"
   ]
  },
  {
   "cell_type": "code",
   "execution_count": 17,
   "id": "d1d803ab",
   "metadata": {},
   "outputs": [
    {
     "name": "stdout",
     "output_type": "stream",
     "text": [
      " training score: 0.6022835394862036\n",
      " testing score: 0.7439024390243902\n",
      "Accuracy Score of bgclassifier is : 0.7439024390243902\n",
      "Confusion Matrix : \n",
      "[[  0  39]\n",
      " [  3 122]]\n",
      "Classification Report : \n",
      "              precision    recall  f1-score   support\n",
      "\n",
      "           0       0.00      0.00      0.00        39\n",
      "           1       0.76      0.98      0.85       125\n",
      "\n",
      "    accuracy                           0.74       164\n",
      "   macro avg       0.38      0.49      0.43       164\n",
      "weighted avg       0.58      0.74      0.65       164\n",
      "\n"
     ]
    }
   ],
   "source": [
    "#\n",
    "# Pipeline Estimator\n",
    "#\n",
    "pipeline = make_pipeline(StandardScaler(),\n",
    "                        LogisticRegression(random_state=1))\n",
    "#\n",
    "# Instantiate the bagging classifier\n",
    "#\n",
    "bgclassifier = BaggingClassifier(base_estimator=pipeline, n_estimators=100,\n",
    "                                 max_features=10,\n",
    "                                 max_samples=50,\n",
    "                                 random_state=1, n_jobs=5)\n",
    "#\n",
    "# Fit the bagging classifier\n",
    "#\n",
    "bgclassifier.fit(X_train_fs, y_train)\n",
    "\n",
    "y_predict = bgclassifier.predict(X_test_fs)\n",
    "#\n",
    "# Model scores on test and training data\n",
    "#\n",
    "bgclassifier.score(X_test_fs, y_test)\n",
    "\n",
    "print(' training score: {}'.format(bgclassifier.score(X_train_fs, y_train)))\n",
    "print(' testing score: {}'.format(bgclassifier.score(X_test_fs, y_test)))\n",
    "\n",
    "acc_rd_clf = accuracy_score(y_test, y_predict)\n",
    "conf = confusion_matrix(y_test, y_predict)\n",
    "clf_report = classification_report(y_test, y_predict)\n",
    "\n",
    "print(f\"Accuracy Score of bgclassifier is : {acc_rd_clf}\")\n",
    "print(f\"Confusion Matrix : \\n{conf}\")\n",
    "print(f\"Classification Report : \\n{clf_report}\")"
   ]
  },
  {
   "cell_type": "code",
   "execution_count": 18,
   "id": "6e2029e9",
   "metadata": {},
   "outputs": [
    {
     "name": "stderr",
     "output_type": "stream",
     "text": [
      "/opt/jupyterhub/anaconda/lib/python3.8/site-packages/sklearn/utils/deprecation.py:87: FutureWarning: Function plot_confusion_matrix is deprecated; Function `plot_confusion_matrix` is deprecated in 1.0 and will be removed in 1.2. Use one of the class methods: ConfusionMatrixDisplay.from_predictions or ConfusionMatrixDisplay.from_estimator.\n",
      "  warnings.warn(msg, category=FutureWarning)\n"
     ]
    },
    {
     "data": {
      "image/png": "[encoded data removed]",
      "text/plain": [
       "<Figure size 432x288 with 2 Axes>"
      ]
     },
     "metadata": {
      "needs_background": "light"
     },
     "output_type": "display_data"
    }
   ],
   "source": [
    "plot_confusion_matrix(bgclassifier, X_test_fs, y_test)\n",
    "plt.show()"
   ]
  }
 ],
 "metadata": {
  "interpreter": {
   "hash": "dcaab5e3e00008b2b48fa46d0ac7b2b7896e070bff14e1693f4f61a724ed989b"
  },
  "kernelspec": {
   "display_name": "Python 3 (ipykernel)",
   "language": "python",
   "name": "python3"
  },
  "language_info": {
   "codemirror_mode": {
    "name": "ipython",
    "version": 3
   },
   "file_extension": ".py",
   "mimetype": "text/x-python",
   "name": "python",
   "nbconvert_exporter": "python",
   "pygments_lexer": "ipython3",
   "version": "3.8.8"
  }
 },
 "nbformat": 4,
 "nbformat_minor": 5
}

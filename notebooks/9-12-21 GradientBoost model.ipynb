{
 "cells": [
  {
   "cell_type": "code",
   "execution_count": 16,
   "id": "2e57b32a",
   "metadata": {},
   "outputs": [
    {
     "data": {
      "text/plain": [
       "((1080, 61), (1080, 1))"
      ]
     },
     "execution_count": 16,
     "metadata": {},
     "output_type": "execute_result"
    }
   ],
   "source": [
    "from sklearn.model_selection import train_test_split\n",
    "from sklearn.preprocessing import StandardScaler \n",
    "from sklearn.neighbors import KNeighborsClassifier\n",
    "from sklearn.metrics import classification_report, confusion_matrix, accuracy_score, plot_confusion_matrix, recall_score\n",
    "from sklearn.ensemble import RandomForestClassifier\n",
    "from sklearn.preprocessing import MinMaxScaler\n",
    "from sklearn.datasets import make_classification\n",
    "from sklearn.feature_selection import SelectFromModel\n",
    "from sklearn.linear_model import LogisticRegression\n",
    "from sklearn.pipeline import make_pipeline\n",
    "from sklearn.ensemble import BaggingClassifier\n",
    "from sklearn.model_selection import GridSearchCV\n",
    "from sklearn.ensemble import GradientBoostingClassifier\n",
    "import plotly.express as px  # for data visualization\n",
    "import plotly.graph_objects as go # for data visualization\n",
    "import numpy as np \n",
    "import matplotlib.pyplot as plt\n",
    "import pandas as pd\n",
    "import seaborn as sns \n",
    "\n",
    "X_train_fs = pd.read_csv('./X_train.csv', error_bad_lines=False, sep=',')\n",
    "X_test_fs = pd.read_csv('./X_test.csv', error_bad_lines=False, sep=',')\n",
    "y_train = pd.read_csv('./y_train.csv', error_bad_lines=False, sep=',')\n",
    "y_test = pd.read_csv('./y_test.csv', error_bad_lines=False, sep=',')\n",
    "\n",
    "#df = df.drop(df.columns[[0,1,5]], axis = 1)\n",
    "X_train_fs.shape, y_train.shape"
   ]
  },
  {
   "cell_type": "code",
   "execution_count": 17,
   "id": "bff595a9",
   "metadata": {},
   "outputs": [],
   "source": [
    "y_train = y_train.values.ravel()\n",
    "y_test = y_test.values.ravel()"
   ]
  },
  {
   "cell_type": "code",
   "execution_count": 18,
   "id": "d1d803ab",
   "metadata": {},
   "outputs": [
    {
     "name": "stdout",
     "output_type": "stream",
     "text": [
      " training score: 0.2\n",
      " testing score: 0.14634146341463414\n",
      "Accuracy Score of Random Forest is : 0.14634146341463414\n",
      "Confusion Matrix : \n",
      "[[24  0  0  0  0]\n",
      " [15  0  0  0  0]\n",
      " [71  0  0  0  0]\n",
      " [30  0  0  0  0]\n",
      " [24  0  0  0  0]]\n",
      "Classification Report : \n",
      "              precision    recall  f1-score   support\n",
      "\n",
      "         1.0       0.15      1.00      0.26        24\n",
      "         2.0       0.00      0.00      0.00        15\n",
      "         3.0       0.00      0.00      0.00        71\n",
      "         4.0       0.00      0.00      0.00        30\n",
      "         5.0       0.00      0.00      0.00        24\n",
      "\n",
      "    accuracy                           0.15       164\n",
      "   macro avg       0.03      0.20      0.05       164\n",
      "weighted avg       0.02      0.15      0.04       164\n",
      "\n"
     ]
    },
    {
     "name": "stderr",
     "output_type": "stream",
     "text": [
      "/opt/jupyterhub/anaconda/lib/python3.8/site-packages/sklearn/metrics/_classification.py:1308: UndefinedMetricWarning: Precision and F-score are ill-defined and being set to 0.0 in labels with no predicted samples. Use `zero_division` parameter to control this behavior.\n",
      "  _warn_prf(average, modifier, msg_start, len(result))\n",
      "/opt/jupyterhub/anaconda/lib/python3.8/site-packages/sklearn/metrics/_classification.py:1308: UndefinedMetricWarning: Precision and F-score are ill-defined and being set to 0.0 in labels with no predicted samples. Use `zero_division` parameter to control this behavior.\n",
      "  _warn_prf(average, modifier, msg_start, len(result))\n",
      "/opt/jupyterhub/anaconda/lib/python3.8/site-packages/sklearn/metrics/_classification.py:1308: UndefinedMetricWarning: Precision and F-score are ill-defined and being set to 0.0 in labels with no predicted samples. Use `zero_division` parameter to control this behavior.\n",
      "  _warn_prf(average, modifier, msg_start, len(result))\n"
     ]
    }
   ],
   "source": [
    "# Use the model classifier to fit data:\n",
    "model = GradientBoostingClassifier(loss='deviance', #deviance or explonential\n",
    "                               criterion='squared_error', #{‘friedman_mse’, ‘mse’, ‘mae’}, default=’friedman_mse’\n",
    "                               learning_rate=0.1, # default 1.0\n",
    "                               subsample=1.0, #default=1.0\n",
    "                               random_state=0, # random state for reproducibility\n",
    "                               max_features='sqrt', # number of random features to use sqrt(n_features)\n",
    "                               min_samples_leaf=1000, # minimum no of observarions allowed in a leaf\n",
    "                               max_depth=3, # maximum depth of the tree\n",
    "                               n_estimators=1000 # how many trees to build\n",
    "                              )\n",
    "clf = model.fit(X_train_fs, y_train)\n",
    "\n",
    "# Predict y data with classifier: \n",
    "y_predict = model.predict(X_test_fs)\n",
    "\n",
    "model.score(X_test_fs, y_test)\n",
    "\n",
    "print(' training score: {}'.format(model.score(X_train_fs, y_train)))\n",
    "print(' testing score: {}'.format(model.score(X_test_fs, y_test)))\n",
    "\n",
    "acc_rd_clf = accuracy_score(y_test, y_predict)\n",
    "conf = confusion_matrix(y_test, y_predict)\n",
    "clf_report = classification_report(y_test, y_predict)\n",
    "\n",
    "print(f\"Accuracy Score of Random Forest is : {acc_rd_clf}\")\n",
    "print(f\"Confusion Matrix : \\n{conf}\")\n",
    "print(f\"Classification Report : \\n{clf_report}\")"
   ]
  },
  {
   "cell_type": "code",
   "execution_count": 19,
   "id": "6e2029e9",
   "metadata": {},
   "outputs": [
    {
     "name": "stderr",
     "output_type": "stream",
     "text": [
      "/opt/jupyterhub/anaconda/lib/python3.8/site-packages/sklearn/utils/deprecation.py:87: FutureWarning: Function plot_confusion_matrix is deprecated; Function `plot_confusion_matrix` is deprecated in 1.0 and will be removed in 1.2. Use one of the class methods: ConfusionMatrixDisplay.from_predictions or ConfusionMatrixDisplay.from_estimator.\n",
      "  warnings.warn(msg, category=FutureWarning)\n"
     ]
    },
    {
     "data": {
      "image/png": "[encoded data removed]",
      "text/plain": [
       "<Figure size 432x288 with 2 Axes>"
      ]
     },
     "metadata": {
      "needs_background": "light"
     },
     "output_type": "display_data"
    }
   ],
   "source": [
    "plot_confusion_matrix(model, X_test_fs, y_test)\n",
    "plt.show()"
   ]
  }
 ],
 "metadata": {
  "interpreter": {
   "hash": "dcaab5e3e00008b2b48fa46d0ac7b2b7896e070bff14e1693f4f61a724ed989b"
  },
  "kernelspec": {
   "display_name": "Python 3 (ipykernel)",
   "language": "python",
   "name": "python3"
  },
  "language_info": {
   "codemirror_mode": {
    "name": "ipython",
    "version": 3
   },
   "file_extension": ".py",
   "mimetype": "text/x-python",
   "name": "python",
   "nbconvert_exporter": "python",
   "pygments_lexer": "ipython3",
   "version": "3.8.8"
  }
 },
 "nbformat": 4,
 "nbformat_minor": 5
}
